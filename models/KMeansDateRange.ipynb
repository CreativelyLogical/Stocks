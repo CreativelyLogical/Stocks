{
 "cells": [
  {
   "cell_type": "code",
   "execution_count": 1,
   "id": "e2693817",
   "metadata": {},
   "outputs": [],
   "source": [
    "import pandas as pd\n",
    "import numpy as np\n",
    "from sklearn.cluster import KMeans\n",
    "from sklearn.preprocessing import Normalizer\n",
    "from sklearn.pipeline import make_pipeline\n",
    "import matplotlib.pyplot as plt\n",
    "\n",
    "import sys\n",
    "sys.path.insert(0, '../utils')\n"
   ]
  },
  {
   "cell_type": "code",
   "execution_count": 2,
   "id": "66686cff",
   "metadata": {},
   "outputs": [],
   "source": [
    "from get_open_close import populate_values_efficient"
   ]
  },
  {
   "cell_type": "code",
   "execution_count": 16,
   "id": "4bb1c267",
   "metadata": {},
   "outputs": [],
   "source": [
    "def get_symbols_from_cluster(cluster_num):\n",
    "    return results[results['clusters'] == cluster_num]['symbols']"
   ]
  },
  {
   "cell_type": "code",
   "execution_count": 12,
   "id": "b280fad7",
   "metadata": {},
   "outputs": [],
   "source": [
    "def kmeans_automated(start_date, end_date, k=5, max_iter=1000, figsize=(15, 8)):\n",
    "    \n",
    "    all_stocks = populate_values_efficient(start_date, end_date)\n",
    "    \n",
    "    all_stocks_open = []\n",
    "    all_stocks_close = []\n",
    "\n",
    "    for stock in all_stocks:\n",
    "        stock_sym, attribute = stock\n",
    "        if attribute == 'Open':\n",
    "            all_stocks_open.append(pd.DataFrame(all_stocks[stock_sym]['Open']).rename(columns={'Open': stock_sym}))\n",
    "        elif attribute == 'Close':\n",
    "            all_stocks_close.append(pd.DataFrame(all_stocks[stock_sym]['Close']).rename(columns={'Close': stock_sym}))\n",
    "\n",
    "    all_stocks_open_df = pd.concat(all_stocks_open, axis=1)\n",
    "    all_stocks_close_df = pd.concat(all_stocks_close, axis=1)\n",
    "    \n",
    "    stock_names = list(all_stocks_open_df.columns)\n",
    "    \n",
    "    open_values = np.array(all_stocks_open_df.T)\n",
    "    close_values = np.array(all_stocks_close_df.T)\n",
    "    \n",
    "    daily_movements = close_values - open_values\n",
    "\n",
    "    # create the model pipeline\n",
    "    normalizer = Normalizer()\n",
    "    clustering_model = KMeans(n_clusters=k, max_iter=max_iter)\n",
    "    pipeline = make_pipeline(normalizer, clustering_model)\n",
    "    pipeline.fit(daily_movements)\n",
    "    clusters = pipeline.predict(daily_movements)\n",
    "    \n",
    "    # get results\n",
    "    results = pd.DataFrame({\n",
    "        'clusters': clusters,\n",
    "        'symbols': stock_names\n",
    "    }).sort_values(by=['clusters'], axis=0)\n",
    "    \n",
    "    return results\n"
   ]
  },
  {
   "cell_type": "code",
   "execution_count": 13,
   "id": "06d1ad61",
   "metadata": {},
   "outputs": [],
   "source": [
    "results = kmeans_automated('2015-01-01', '2015-01-12', k=8, max_iter=1000, figsize=(20, 15))"
   ]
  },
  {
   "cell_type": "code",
   "execution_count": 14,
   "id": "96f093fd",
   "metadata": {},
   "outputs": [],
   "source": [
    "get_symbols_from_cluster(3)"
   ]
  }
 ],
 "metadata": {
  "kernelspec": {
   "display_name": "Python 3 (ipykernel)",
   "language": "python",
   "name": "python3"
  },
  "language_info": {
   "codemirror_mode": {
    "name": "ipython",
    "version": 3
   },
   "file_extension": ".py",
   "mimetype": "text/x-python",
   "name": "python",
   "nbconvert_exporter": "python",
   "pygments_lexer": "ipython3",
   "version": "3.9.13"
  }
 },
 "nbformat": 4,
 "nbformat_minor": 5
}
